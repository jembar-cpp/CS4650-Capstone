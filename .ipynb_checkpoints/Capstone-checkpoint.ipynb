{
 "cells": [
  {
   "cell_type": "markdown",
   "id": "c8d8994c",
   "metadata": {},
   "source": [
    "# CS 4650 - Capstone Project\n",
    "\n",
    "### Jeremy Embar, Timothy Huang, Michael Left, Dante Martinez\n",
    "### Cal Poly Pomona 2023-04-23\n",
    "\n",
    "Some description of the project."
   ]
  },
  {
   "cell_type": "markdown",
   "id": "63dc9da7",
   "metadata": {},
   "source": [
    "### Necessary imports and settings"
   ]
  },
  {
   "cell_type": "code",
   "execution_count": 3,
   "id": "572efb4b",
   "metadata": {},
   "outputs": [
    {
     "data": {
      "application/javascript": [
       "IPython.OutputArea.prototype._should_scroll = function(lines) {\n",
       "    return false;\n",
       "}\n"
      ],
      "text/plain": [
       "<IPython.core.display.Javascript object>"
      ]
     },
     "metadata": {},
     "output_type": "display_data"
    }
   ],
   "source": [
    "%%javascript\n",
    "IPython.OutputArea.prototype._should_scroll = function(lines) {\n",
    "    return false;\n",
    "}"
   ]
  },
  {
   "cell_type": "code",
   "execution_count": 4,
   "id": "99471dcd",
   "metadata": {},
   "outputs": [],
   "source": [
    "import pandas as pd\n",
    "import numpy as np\n",
    "import seaborn as sns\n",
    "\n",
    "import sklearn as sk\n",
    "from sklearn.metrics import ConfusionMatrixDisplay\n",
    "from sklearn.linear_model import LogisticRegression\n",
    "from sklearn.model_selection import train_test_split\n",
    "from sklearn.preprocessing import scale\n",
    "\n",
    "import matplotlib.pyplot as plt\n",
    "import matplotlib.cm as cm\n",
    "\n",
    "pd.set_option('display.max_columns', 50);\n",
    "np.set_printoptions(precision=4, suppress=True)"
   ]
  },
  {
   "cell_type": "markdown",
   "id": "adf7a75d",
   "metadata": {},
   "source": [
    "### Loading the data\n",
    "Loading the data for both men and women into dataframes."
   ]
  },
  {
   "cell_type": "code",
   "execution_count": 6,
   "id": "696950d0",
   "metadata": {},
   "outputs": [],
   "source": [
    "data_m = pd.read_csv('Mens_Boston_Marathon_Winners.csv')\n",
    "data_f = pd.read_csv('Womens_Boston_Marathon_Winners.csv')"
   ]
  }
 ],
 "metadata": {
  "kernelspec": {
   "display_name": "Python 3 (ipykernel)",
   "language": "python",
   "name": "python3"
  },
  "language_info": {
   "codemirror_mode": {
    "name": "ipython",
    "version": 3
   },
   "file_extension": ".py",
   "mimetype": "text/x-python",
   "name": "python",
   "nbconvert_exporter": "python",
   "pygments_lexer": "ipython3",
   "version": "3.9.13"
  }
 },
 "nbformat": 4,
 "nbformat_minor": 5
}
