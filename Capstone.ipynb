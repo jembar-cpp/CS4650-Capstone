{
 "cells": [
  {
   "cell_type": "markdown",
   "id": "c8d8994c",
   "metadata": {},
   "source": [
    "# CS 4650 - Capstone Project\n",
    "\n",
    "### Jeremy Embar, Timothy Huang, Michael Left, Dante Martinez\n",
    "### Cal Poly Pomona 2023-05-11\n",
    "\n",
    "Some description of the project."
   ]
  },
  {
   "cell_type": "markdown",
   "id": "63dc9da7",
   "metadata": {},
   "source": [
    "### Necessary imports and settings"
   ]
  },
  {
   "cell_type": "code",
   "execution_count": 1,
   "id": "572efb4b",
   "metadata": {},
   "outputs": [
    {
     "data": {
      "application/javascript": [
       "IPython.OutputArea.prototype._should_scroll = function(lines) {\n",
       "    return false;\n",
       "}\n"
      ],
      "text/plain": [
       "<IPython.core.display.Javascript object>"
      ]
     },
     "metadata": {},
     "output_type": "display_data"
    }
   ],
   "source": [
    "%%javascript\n",
    "IPython.OutputArea.prototype._should_scroll = function(lines) {\n",
    "    return false;\n",
    "}"
   ]
  },
  {
   "cell_type": "code",
   "execution_count": 2,
   "id": "99471dcd",
   "metadata": {},
   "outputs": [],
   "source": [
    "import pandas as pd\n",
    "import numpy as np\n",
    "import seaborn as sns\n",
    "\n",
    "import sklearn as sk\n",
    "from sklearn.metrics import ConfusionMatrixDisplay\n",
    "from sklearn.linear_model import LogisticRegression\n",
    "from sklearn.model_selection import train_test_split\n",
    "from sklearn.preprocessing import scale\n",
    "\n",
    "import matplotlib.pyplot as plt\n",
    "import matplotlib.cm as cm\n",
    "\n",
    "pd.set_option('display.max_columns', 50);\n",
    "np.set_printoptions(precision=4, suppress=True)"
   ]
  },
  {
   "cell_type": "markdown",
   "id": "adf7a75d",
   "metadata": {},
   "source": [
    "### Loading the data\n",
    "Loading the data for both men and women into dataframes."
   ]
  },
  {
   "cell_type": "code",
   "execution_count": 3,
   "id": "696950d0",
   "metadata": {},
   "outputs": [],
   "source": [
    "data_m = pd.read_csv('Mens_Boston_Marathon_Winners.csv')\n",
    "data_f = pd.read_csv('Womens_Boston_Marathon_Winners.csv')"
   ]
  },
  {
   "cell_type": "code",
   "execution_count": 4,
   "id": "8ca7bb81",
   "metadata": {},
   "outputs": [
    {
     "name": "stdout",
     "output_type": "stream",
     "text": [
      "<class 'pandas.core.frame.DataFrame'>\n",
      "RangeIndex: 126 entries, 0 to 125\n",
      "Data columns (total 6 columns):\n",
      " #   Column            Non-Null Count  Dtype  \n",
      "---  ------            --------------  -----  \n",
      " 0   Year              124 non-null    float64\n",
      " 1   Winner            124 non-null    object \n",
      " 2   Country           124 non-null    object \n",
      " 3   Time              124 non-null    object \n",
      " 4   Distance (Miles)  124 non-null    float64\n",
      " 5   Distance (KM)     124 non-null    float64\n",
      "dtypes: float64(3), object(3)\n",
      "memory usage: 6.0+ KB\n"
     ]
    }
   ],
   "source": [
    "data_m.info()"
   ]
  },
  {
   "cell_type": "code",
   "execution_count": 5,
   "id": "2ae88d28",
   "metadata": {},
   "outputs": [
    {
     "data": {
      "text/html": [
       "<div>\n",
       "<style scoped>\n",
       "    .dataframe tbody tr th:only-of-type {\n",
       "        vertical-align: middle;\n",
       "    }\n",
       "\n",
       "    .dataframe tbody tr th {\n",
       "        vertical-align: top;\n",
       "    }\n",
       "\n",
       "    .dataframe thead th {\n",
       "        text-align: right;\n",
       "    }\n",
       "</style>\n",
       "<table border=\"1\" class=\"dataframe\">\n",
       "  <thead>\n",
       "    <tr style=\"text-align: right;\">\n",
       "      <th></th>\n",
       "      <th>Year</th>\n",
       "      <th>Winner</th>\n",
       "      <th>Country</th>\n",
       "      <th>Time</th>\n",
       "      <th>Distance (Miles)</th>\n",
       "      <th>Distance (KM)</th>\n",
       "    </tr>\n",
       "  </thead>\n",
       "  <tbody>\n",
       "    <tr>\n",
       "      <th>121</th>\n",
       "      <td>2018.0</td>\n",
       "      <td>Yuki Kawauchi</td>\n",
       "      <td>Japan</td>\n",
       "      <td>02:15:58</td>\n",
       "      <td>26.2</td>\n",
       "      <td>42.2</td>\n",
       "    </tr>\n",
       "    <tr>\n",
       "      <th>122</th>\n",
       "      <td>2019.0</td>\n",
       "      <td>Lawrence Cherono</td>\n",
       "      <td>Kenya</td>\n",
       "      <td>02:07:57</td>\n",
       "      <td>26.2</td>\n",
       "      <td>42.2</td>\n",
       "    </tr>\n",
       "    <tr>\n",
       "      <th>123</th>\n",
       "      <td>NaN</td>\n",
       "      <td>NaN</td>\n",
       "      <td>NaN</td>\n",
       "      <td>NaN</td>\n",
       "      <td>NaN</td>\n",
       "      <td>NaN</td>\n",
       "    </tr>\n",
       "    <tr>\n",
       "      <th>124</th>\n",
       "      <td>2021.0</td>\n",
       "      <td>Benson Kipruto</td>\n",
       "      <td>Kenya</td>\n",
       "      <td>02:09:51</td>\n",
       "      <td>26.2</td>\n",
       "      <td>42.2</td>\n",
       "    </tr>\n",
       "    <tr>\n",
       "      <th>125</th>\n",
       "      <td>2022.0</td>\n",
       "      <td>Evans Chebet</td>\n",
       "      <td>Kenya</td>\n",
       "      <td>02:06:51</td>\n",
       "      <td>26.2</td>\n",
       "      <td>42.2</td>\n",
       "    </tr>\n",
       "  </tbody>\n",
       "</table>\n",
       "</div>"
      ],
      "text/plain": [
       "       Year            Winner Country      Time  Distance (Miles)  \\\n",
       "121  2018.0     Yuki Kawauchi   Japan  02:15:58              26.2   \n",
       "122  2019.0  Lawrence Cherono   Kenya  02:07:57              26.2   \n",
       "123     NaN               NaN     NaN       NaN               NaN   \n",
       "124  2021.0    Benson Kipruto   Kenya  02:09:51              26.2   \n",
       "125  2022.0      Evans Chebet   Kenya  02:06:51              26.2   \n",
       "\n",
       "     Distance (KM)  \n",
       "121           42.2  \n",
       "122           42.2  \n",
       "123            NaN  \n",
       "124           42.2  \n",
       "125           42.2  "
      ]
     },
     "execution_count": 5,
     "metadata": {},
     "output_type": "execute_result"
    }
   ],
   "source": [
    "data_m.tail()"
   ]
  },
  {
   "cell_type": "markdown",
   "id": "98943a8c",
   "metadata": {},
   "source": [
    "Checking for NaN values and dropping the rows that are missing."
   ]
  },
  {
   "cell_type": "code",
   "execution_count": 6,
   "id": "77328ac8",
   "metadata": {},
   "outputs": [
    {
     "data": {
      "text/plain": [
       "2"
      ]
     },
     "execution_count": 6,
     "metadata": {},
     "output_type": "execute_result"
    }
   ],
   "source": [
    "data_m['Year'].isna().sum()"
   ]
  },
  {
   "cell_type": "code",
   "execution_count": 7,
   "id": "b551b4aa",
   "metadata": {},
   "outputs": [
    {
     "data": {
      "text/plain": [
       "1"
      ]
     },
     "execution_count": 7,
     "metadata": {},
     "output_type": "execute_result"
    }
   ],
   "source": [
    "data_f['Year'].isna().sum()"
   ]
  },
  {
   "cell_type": "markdown",
   "id": "1ef8aa69",
   "metadata": {},
   "source": [
    "Dropping all the NaN values from the Men and Womens marathon tables"
   ]
  },
  {
   "cell_type": "code",
   "execution_count": 8,
   "id": "94e3d003",
   "metadata": {},
   "outputs": [],
   "source": [
    "data_m=data_m.dropna();\n",
    "data_f=data_f.dropna();"
   ]
  },
  {
   "cell_type": "markdown",
   "id": "fbe80b0f",
   "metadata": {},
   "source": [
    "Creating a new column for Speed (MPH) and calculating those values"
   ]
  },
  {
   "cell_type": "code",
   "execution_count": 9,
   "id": "8226ed69",
   "metadata": {},
   "outputs": [],
   "source": [
    "data_m['Speed (MPH)'] = pd.to_datetime(data_m['Time'], format= '%H:%M:%S');\n",
    "data_m['Speed (MPH)'] = data_m['Speed (MPH)'].dt.hour + data_m['Speed (MPH)'].dt.minute/60 + data_m['Speed (MPH)'].dt.second/3600;\n",
    "data_m['Speed (MPH)'] = data_m['Distance (Miles)'] / data_m['Speed (MPH)'];"
   ]
  },
  {
   "cell_type": "code",
   "execution_count": 10,
   "id": "23a90638",
   "metadata": {},
   "outputs": [],
   "source": [
    "data_f['Speed (MPH)'] = pd.to_datetime(data_f['Time'], format= '%H:%M:%S');\n",
    "data_f['Speed (MPH)'] = data_f['Speed (MPH)'].dt.hour + data_f['Speed (MPH)'].dt.minute/60 + data_f['Speed (MPH)'].dt.second/3600;\n",
    "data_f['Speed (MPH)'] = data_f['Distance (Miles)'] / data_f['Speed (MPH)'];"
   ]
  },
  {
   "cell_type": "code",
   "execution_count": 11,
   "id": "0c2d5119",
   "metadata": {},
   "outputs": [
    {
     "data": {
      "text/html": [
       "<div>\n",
       "<style scoped>\n",
       "    .dataframe tbody tr th:only-of-type {\n",
       "        vertical-align: middle;\n",
       "    }\n",
       "\n",
       "    .dataframe tbody tr th {\n",
       "        vertical-align: top;\n",
       "    }\n",
       "\n",
       "    .dataframe thead th {\n",
       "        text-align: right;\n",
       "    }\n",
       "</style>\n",
       "<table border=\"1\" class=\"dataframe\">\n",
       "  <thead>\n",
       "    <tr style=\"text-align: right;\">\n",
       "      <th></th>\n",
       "      <th>Year</th>\n",
       "      <th>Winner</th>\n",
       "      <th>Country</th>\n",
       "      <th>Time</th>\n",
       "      <th>Distance (Miles)</th>\n",
       "      <th>Distance (KM)</th>\n",
       "      <th>Speed (MPH)</th>\n",
       "    </tr>\n",
       "  </thead>\n",
       "  <tbody>\n",
       "    <tr>\n",
       "      <th>51</th>\n",
       "      <td>2017.0</td>\n",
       "      <td>Edna Kiplagat</td>\n",
       "      <td>Kenya</td>\n",
       "      <td>2:21:52</td>\n",
       "      <td>26.2</td>\n",
       "      <td>42.2</td>\n",
       "      <td>11.080827</td>\n",
       "    </tr>\n",
       "    <tr>\n",
       "      <th>52</th>\n",
       "      <td>2018.0</td>\n",
       "      <td>Desiree Linden</td>\n",
       "      <td>United States</td>\n",
       "      <td>2:39:54</td>\n",
       "      <td>26.2</td>\n",
       "      <td>42.2</td>\n",
       "      <td>9.831144</td>\n",
       "    </tr>\n",
       "    <tr>\n",
       "      <th>53</th>\n",
       "      <td>2019.0</td>\n",
       "      <td>Worknesh Degefa</td>\n",
       "      <td>Ethiopia</td>\n",
       "      <td>2:23:31</td>\n",
       "      <td>26.2</td>\n",
       "      <td>42.2</td>\n",
       "      <td>10.953432</td>\n",
       "    </tr>\n",
       "    <tr>\n",
       "      <th>55</th>\n",
       "      <td>2021.0</td>\n",
       "      <td>Edna Kiplagat</td>\n",
       "      <td>Kenya</td>\n",
       "      <td>2:25:09</td>\n",
       "      <td>26.2</td>\n",
       "      <td>42.2</td>\n",
       "      <td>10.830176</td>\n",
       "    </tr>\n",
       "    <tr>\n",
       "      <th>56</th>\n",
       "      <td>2022.0</td>\n",
       "      <td>Peres Jepchirchir</td>\n",
       "      <td>Kenya</td>\n",
       "      <td>2:21:02</td>\n",
       "      <td>26.2</td>\n",
       "      <td>42.2</td>\n",
       "      <td>11.146301</td>\n",
       "    </tr>\n",
       "  </tbody>\n",
       "</table>\n",
       "</div>"
      ],
      "text/plain": [
       "      Year             Winner        Country     Time  Distance (Miles)  \\\n",
       "51  2017.0      Edna Kiplagat          Kenya  2:21:52              26.2   \n",
       "52  2018.0     Desiree Linden  United States  2:39:54              26.2   \n",
       "53  2019.0    Worknesh Degefa       Ethiopia  2:23:31              26.2   \n",
       "55  2021.0      Edna Kiplagat          Kenya  2:25:09              26.2   \n",
       "56  2022.0  Peres Jepchirchir          Kenya  2:21:02              26.2   \n",
       "\n",
       "    Distance (KM)  Speed (MPH)  \n",
       "51           42.2    11.080827  \n",
       "52           42.2     9.831144  \n",
       "53           42.2    10.953432  \n",
       "55           42.2    10.830176  \n",
       "56           42.2    11.146301  "
      ]
     },
     "execution_count": 11,
     "metadata": {},
     "output_type": "execute_result"
    }
   ],
   "source": [
    "data_f.tail()"
   ]
  },
  {
   "cell_type": "code",
   "execution_count": null,
   "id": "62e3f2d3",
   "metadata": {},
   "outputs": [],
   "source": []
  }
 ],
 "metadata": {
  "kernelspec": {
   "display_name": "Python 3 (ipykernel)",
   "language": "python",
   "name": "python3"
  },
  "language_info": {
   "codemirror_mode": {
    "name": "ipython",
    "version": 3
   },
   "file_extension": ".py",
   "mimetype": "text/x-python",
   "name": "python",
   "nbconvert_exporter": "python",
   "pygments_lexer": "ipython3",
   "version": "3.9.13"
  }
 },
 "nbformat": 4,
 "nbformat_minor": 5
}
